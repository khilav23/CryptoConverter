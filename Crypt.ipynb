{
  "nbformat": 4,
  "nbformat_minor": 0,
  "metadata": {
    "colab": {
      "provenance": []
    },
    "kernelspec": {
      "name": "python3",
      "display_name": "Python 3"
    },
    "language_info": {
      "name": "python"
    }
  },
  "cells": [
    {
      "cell_type": "markdown",
      "source": [
        "#Pre-Requisites"
      ],
      "metadata": {
        "id": "Nc7A6aUtWa1W"
      }
    },
    {
      "cell_type": "code",
      "execution_count": null,
      "metadata": {
        "id": "CinBM3WkJKei"
      },
      "outputs": [],
      "source": [
        "import pandas as pd\n",
        "import numpy as np\n",
        "import requests\n",
        "import pandas as pd\n",
        "import json"
      ]
    },
    {
      "cell_type": "markdown",
      "source": [
        "### A Python Program to Print real time crypto prices in any currency format via the Coinbase API\n"
      ],
      "metadata": {
        "id": "aYqk9JmUWdkS"
      }
    },
    {
      "cell_type": "code",
      "source": [
        "# Prompt the user to input the cryptocurrency key & the currency key\n",
        "crp = str(input(\"Crypto [key]: \"))\n",
        "cur = str(input(\"Currency [key]: \"))\n",
        "\n",
        "# Construct the URL for the API request using the provided cryptocurrency and currency keys\n",
        "url = 'https://rest.coinapi.io/v1/exchangerate/' + crp + '/' + cur\n",
        "\n",
        "# Set the API key in the headers for authentication\n",
        "headers = {'X-CoinAPI-Key' : '186EA647-C0C7-4335-993E-73769FF250FC'}\n",
        "\n",
        "# Send a GET request to the API with the constructed URL and headers\n",
        "response = requests.get(url, headers=headers)\n",
        "\n",
        "# Parse the JSON response from the API & print the results\n",
        "resp = response.json()\n",
        "print(resp['rate'])"
      ],
      "metadata": {
        "id": "aeCkI1LlJYiU",
        "colab": {
          "base_uri": "https://localhost:8080/"
        },
        "outputId": "6ed008d6-85c4-4539-dd58-e51c74ad0843"
      },
      "execution_count": null,
      "outputs": [
        {
          "output_type": "stream",
          "name": "stdout",
          "text": [
            "Crypto [key]: ETH\n",
            "Currency[key]: USD\n",
            "1597.4286500220314\n"
          ]
        }
      ]
    }
  ]
}